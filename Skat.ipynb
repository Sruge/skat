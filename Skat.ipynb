{
 "cells": [
  {
   "cell_type": "code",
   "execution_count": 305,
   "metadata": {},
   "outputs": [],
   "source": [
    "import random as rd\n",
    "\n",
    "class Card(object):\n",
    "    numbers = {0: \"7\", 1: \"8\",2: \"9\", 3: \"10\", 4: \"B\", 5: \"Q\", 6: \"K\", 7: \"A\"}\n",
    "    colours = {0: \"K\",1: \"H\",2: \"S\",3: \"C\"}\n",
    "    points = {0: 0, 1: 0,2: 0, 3: 10, 4: 2, 5: 3, 6: 4, 7: 11}\n",
    "    \n",
    "    def __init__(self, number, colour):\n",
    "        self.number = number\n",
    "        self.colour = colour\n",
    "    \n",
    "    def pretty_print(self):\n",
    "        print((self.numbers[self.number], self.colours[self.colour]))\n",
    "        \n",
    "    def is_trump(self, trump):\n",
    "        return self.colour == trump or self.number == 4\n",
    "        \n",
    "    def __eq__(self, other):\n",
    "        return self.number == other.number and self.colour == other.colour\n",
    "        \n",
    "    \n",
    "class Deck(object):\n",
    "    def __init__(self):\n",
    "        self.cards = []\n",
    "        for number in range(8):\n",
    "            for colour in range(4):\n",
    "                card = Card(number%8, colour%4)\n",
    "                self.cards.append(card)\n",
    "        rd.shuffle(self.cards)\n",
    "        \n",
    "    def deal_card(self):\n",
    "        if self.cards:\n",
    "            card = self.cards.pop()\n",
    "            return card\n",
    "    \n",
    "        \n",
    "class Board(object):\n",
    "    def __init__(self):\n",
    "        self.cards = []\n",
    "        \n",
    "    def count_points(self):\n",
    "        return 100\n",
    "    \n",
    "    def evaluate_winner(self):\n",
    "        return 0\n",
    "    \n",
    "    def clear(self):\n",
    "        self.cards = []\n",
    "        \n",
    "class Player(object):\n",
    "    def __init__(self):\n",
    "        self.cards = []\n",
    "        self.points_round = 0\n",
    "        self.points_game = 0\n",
    "        \n",
    "    def random_move(self):\n",
    "        if self.cards:\n",
    "            card = rd.choice(self.cards)\n",
    "            self.cards.remove(card)\n",
    "            return card\n",
    "        \n",
    "            \n",
    "    def legal_moves(self, board, trump):\n",
    "        if not board:\n",
    "            self.legals = list(self.cards)\n",
    "        else:\n",
    "            if board[0].is_trump(trump):\n",
    "                self.legals = [card for card in self.cards if card.is_trump(trump)]\n",
    "                if not self.legals:\n",
    "                    self.legals = list(self.cards)\n",
    "            else:\n",
    "                played_colour = board[0].colour\n",
    "                self.legals = [card for card in self.cards if card.colour == played_colour and not card.is_trump(trump)]\n",
    "        return self.legals    \n",
    "        \n",
    "\n",
    "class Game():\n",
    "    def __init__(self):\n",
    "        self.players = []\n",
    "        self.skat = Deck()\n",
    "        self.board = Board()\n",
    "        self.trump = None\n",
    "        for i in range (2):\n",
    "            player = Player()\n",
    "            for j in range(10):\n",
    "                player.cards.append(self.skat.deal_card())\n",
    "        \n",
    "        self.players.append(player)    \n",
    "        \n",
    "        "
   ]
  },
  {
   "cell_type": "code",
   "execution_count": 306,
   "metadata": {},
   "outputs": [],
   "source": [
    "g = Game()"
   ]
  },
  {
   "cell_type": "code",
   "execution_count": 307,
   "metadata": {},
   "outputs": [
    {
     "name": "stdout",
     "output_type": "stream",
     "text": [
      "('8', 'H')\n"
     ]
    }
   ],
   "source": [
    "g.skat.cards[3].pretty_print()"
   ]
  },
  {
   "cell_type": "code",
   "execution_count": 308,
   "metadata": {},
   "outputs": [
    {
     "name": "stdout",
     "output_type": "stream",
     "text": [
      "('9', 'H')\n",
      "('A', 'S')\n",
      "('Q', 'H')\n",
      "('10', 'S')\n",
      "('7', 'C')\n",
      "('10', 'H')\n",
      "('8', 'C')\n",
      "('B', 'C')\n",
      "('7', 'K')\n",
      "('Q', 'S')\n"
     ]
    }
   ],
   "source": [
    "for i in g.players[0].cards: i.pretty_print()"
   ]
  },
  {
   "cell_type": "code",
   "execution_count": 316,
   "metadata": {},
   "outputs": [],
   "source": [
    "c = Card(3, 1)"
   ]
  },
  {
   "cell_type": "code",
   "execution_count": 317,
   "metadata": {},
   "outputs": [
    {
     "name": "stdout",
     "output_type": "stream",
     "text": [
      "('10', 'H')\n"
     ]
    }
   ],
   "source": [
    "c.pretty_print()"
   ]
  },
  {
   "cell_type": "code",
   "execution_count": 318,
   "metadata": {},
   "outputs": [],
   "source": [
    "l = [c]"
   ]
  },
  {
   "cell_type": "code",
   "execution_count": 319,
   "metadata": {},
   "outputs": [
    {
     "name": "stdout",
     "output_type": "stream",
     "text": [
      "('9', 'H')\n",
      "('Q', 'H')\n",
      "('10', 'H')\n",
      "('B', 'C')\n"
     ]
    }
   ],
   "source": [
    "for i in g.players[0].legal_moves(l, 1):\n",
    "    i.pretty_print()"
   ]
  },
  {
   "cell_type": "code",
   "execution_count": 274,
   "metadata": {},
   "outputs": [],
   "source": [
    "a = g.players[0].random_move()"
   ]
  },
  {
   "cell_type": "code",
   "execution_count": 275,
   "metadata": {},
   "outputs": [
    {
     "ename": "AttributeError",
     "evalue": "'NoneType' object has no attribute 'pretty_print'",
     "output_type": "error",
     "traceback": [
      "\u001b[0;31m---------------------------------------------------------------------------\u001b[0m",
      "\u001b[0;31mAttributeError\u001b[0m                            Traceback (most recent call last)",
      "\u001b[0;32m<ipython-input-275-160a26527045>\u001b[0m in \u001b[0;36m<module>\u001b[0;34m()\u001b[0m\n\u001b[0;32m----> 1\u001b[0;31m \u001b[0ma\u001b[0m\u001b[0;34m.\u001b[0m\u001b[0mpretty_print\u001b[0m\u001b[0;34m(\u001b[0m\u001b[0;34m)\u001b[0m\u001b[0;34m\u001b[0m\u001b[0m\n\u001b[0m",
      "\u001b[0;31mAttributeError\u001b[0m: 'NoneType' object has no attribute 'pretty_print'"
     ]
    }
   ],
   "source": [
    "a.pretty_print()"
   ]
  },
  {
   "cell_type": "code",
   "execution_count": 250,
   "metadata": {},
   "outputs": [],
   "source": [
    "d = Deck()"
   ]
  },
  {
   "cell_type": "code",
   "execution_count": 251,
   "metadata": {},
   "outputs": [
    {
     "name": "stdout",
     "output_type": "stream",
     "text": [
      "('10', 'S')\n",
      "('A', 'H')\n",
      "('B', 'C')\n",
      "('K', 'K')\n",
      "('K', 'H')\n",
      "('8', 'C')\n",
      "('K', 'S')\n",
      "('9', 'K')\n",
      "('B', 'K')\n",
      "('7', 'H')\n",
      "('8', 'H')\n",
      "('7', 'K')\n",
      "('10', 'H')\n",
      "('7', 'S')\n",
      "('B', 'H')\n",
      "('10', 'K')\n",
      "('7', 'C')\n",
      "('9', 'H')\n",
      "('Q', 'H')\n",
      "('Q', 'S')\n",
      "('A', 'C')\n",
      "('9', 'S')\n",
      "('8', 'K')\n",
      "('9', 'C')\n",
      "('Q', 'K')\n",
      "('K', 'C')\n",
      "('8', 'S')\n",
      "('10', 'C')\n",
      "('A', 'S')\n",
      "('B', 'S')\n",
      "('A', 'K')\n",
      "('Q', 'C')\n"
     ]
    }
   ],
   "source": [
    "j = []\n",
    "for i in d.cards:\n",
    "    if i in j:\n",
    "        print(\"yes\")\n",
    "    j.append(i)\n",
    "    i.pretty_print()\n",
    "    "
   ]
  },
  {
   "cell_type": "code",
   "execution_count": 276,
   "metadata": {},
   "outputs": [
    {
     "ename": "SyntaxError",
     "evalue": "invalid syntax (<ipython-input-276-5980d2310ba5>, line 3)",
     "output_type": "error",
     "traceback": [
      "\u001b[0;36m  File \u001b[0;32m\"<ipython-input-276-5980d2310ba5>\"\u001b[0;36m, line \u001b[0;32m3\u001b[0m\n\u001b[0;31m    a.append(j if j == 3)\u001b[0m\n\u001b[0m                        ^\u001b[0m\n\u001b[0;31mSyntaxError\u001b[0m\u001b[0;31m:\u001b[0m invalid syntax\n"
     ]
    }
   ],
   "source": [
    "a = []\n",
    "j = 1\n",
    "a.append(j if j == 3)"
   ]
  },
  {
   "cell_type": "code",
   "execution_count": null,
   "metadata": {},
   "outputs": [],
   "source": []
  }
 ],
 "metadata": {
  "kernelspec": {
   "display_name": "Python 3",
   "language": "python",
   "name": "python3"
  },
  "language_info": {
   "codemirror_mode": {
    "name": "ipython",
    "version": 3
   },
   "file_extension": ".py",
   "mimetype": "text/x-python",
   "name": "python",
   "nbconvert_exporter": "python",
   "pygments_lexer": "ipython3",
   "version": "3.6.6"
  }
 },
 "nbformat": 4,
 "nbformat_minor": 2
}
